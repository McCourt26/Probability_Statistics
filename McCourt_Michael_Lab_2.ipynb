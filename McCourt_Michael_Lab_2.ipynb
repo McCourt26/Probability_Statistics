{
  "nbformat": 4,
  "nbformat_minor": 0,
  "metadata": {
    "colab": {
      "provenance": [],
      "collapsed_sections": [
        "Q426Yo5gadeu",
        "1V_KytjhlBGU"
      ],
      "include_colab_link": true
    },
    "kernelspec": {
      "name": "python3",
      "display_name": "Python 3"
    },
    "language_info": {
      "name": "python"
    }
  },
  "cells": [
    {
      "cell_type": "markdown",
      "metadata": {
        "id": "view-in-github",
        "colab_type": "text"
      },
      "source": [
        "<a href=\"https://colab.research.google.com/github/McCourt26/Probability_Statistics/blob/main/McCourt_Michael_Lab_2.ipynb\" target=\"_parent\"><img src=\"https://colab.research.google.com/assets/colab-badge.svg\" alt=\"Open In Colab\"/></a>"
      ]
    },
    {
      "cell_type": "markdown",
      "source": [
        "# Stats Notebook Lab #2"
      ],
      "metadata": {
        "id": "GEwHyK5ve9lG"
      }
    },
    {
      "cell_type": "code",
      "source": [
        "import numpy as np\n",
        "import matplotlib.pyplot as plt\n",
        "import imageio\n",
        "from PIL import Image"
      ],
      "metadata": {
        "id": "KLCIpuHlexOa"
      },
      "execution_count": null,
      "outputs": []
    },
    {
      "cell_type": "markdown",
      "source": [
        "###We are inserting imgageio which allows us to read and write iamges "
      ],
      "metadata": {
        "id": "Z05TlPszPpl4"
      }
    },
    {
      "cell_type": "markdown",
      "source": [
        "## Style Guide for Colab Markdown\n",
        "https://colab.research.google.com/notebooks/markdown_guide.ipynb"
      ],
      "metadata": {
        "id": "Q426Yo5gadeu"
      }
    },
    {
      "cell_type": "markdown",
      "source": [
        "<img src =\"https://www.applesfromny.com/wp-content/uploads/2020/06/SnapdragonNEW.png\">"
      ],
      "metadata": {
        "id": "FJgWmBwAYg8N"
      }
    },
    {
      "cell_type": "markdown",
      "source": [],
      "metadata": {
        "id": "n8DvJpV3QTyO"
      }
    },
    {
      "cell_type": "markdown",
      "source": [
        "<img src = \"https://upload.wikimedia.org/wikipedia/commons/thumb/e/e3/Oranges_-_whole-halved-segment.jpg/1200px-Oranges_-_whole-halved-segment.jpg\" width = 200>\n",
        "\n",
        "```\n",
        "# This is formatted as code\n",
        "```\n",
        "\n"
      ],
      "metadata": {
        "id": "XEG4Lg7aZASP"
      }
    },
    {
      "cell_type": "markdown",
      "source": [
        "###To format text cells we use markdown. You can do a handfull of things with markdown. Below are examples of wht you can do. "
      ],
      "metadata": {
        "id": "TkvPvUPsQVyZ"
      }
    },
    {
      "cell_type": "markdown",
      "source": [
        ">You can indent cells"
      ],
      "metadata": {
        "id": "4S09mbbcQr8Z"
      }
    },
    {
      "cell_type": "markdown",
      "source": [
        ">>> To indent cells use \">>>\" before typing"
      ],
      "metadata": {
        "id": "aO_2UfVpQ1fR"
      }
    },
    {
      "cell_type": "markdown",
      "source": [
        "### To create an ordered list insert \"1's\" as follows\n",
        "\n",
        "1. Un \n",
        "1. Deux \n",
        "3. Trois"
      ],
      "metadata": {
        "id": "kDj9LY1CRVwL"
      }
    },
    {
      "cell_type": "markdown",
      "source": [
        "### To make a bullet list insert \"*\" before each word \n",
        "\n",
        "* Eggs \n",
        "* Milk \n",
        "* Cheese"
      ],
      "metadata": {
        "id": "T-vm_S9nR7nW"
      }
    },
    {
      "cell_type": "markdown",
      "source": [
        "###You can insert equations \n",
        "\n",
        "$y=x^4$ \n",
        "\n",
        "\n",
        "$\\frac{x}{y(z-x)} = {n \\choose y}$ \n",
        "\n"
      ],
      "metadata": {
        "id": "IHCGeR0KSiPA"
      }
    },
    {
      "cell_type": "markdown",
      "source": [
        "###Finally you can insert tables by inserting lines into the shape you desire\n",
        "\n",
        "Assets | Liabilities | Equity\n",
        "-------|-------------|--------\n",
        "1026   |  342        | 684\n",
        "       |             | "
      ],
      "metadata": {
        "id": "sccAfGeITnmb"
      }
    },
    {
      "cell_type": "markdown",
      "source": [
        "To insert a picture into markdown use <img src =\"png of photo you select\"> and then select image\n",
        "\n",
        "In this example I inserted a photo of the meme \"Dat Boi\"\n",
        "\n",
        "\n",
        "![download-6.jpg](data:image/jpeg;base64,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)\">"
      ],
      "metadata": {
        "id": "kSrmuAgzalxO"
      }
    },
    {
      "cell_type": "markdown",
      "source": [
        "### You can adjust the size of your text by adding more or less hashtags \"###\" \n",
        "\n",
        "Also you can enter / exit a text cell by double-clicking"
      ],
      "metadata": {
        "id": "vpoAzyP5bF5U"
      }
    },
    {
      "cell_type": "markdown",
      "source": [
        "## Math Typesetting\n",
        "\n",
        "[LaTeX Guide](https://github.com/williamedwardhahn/Probability_Statistics/blob/main/Math_LaTeX.pdf)"
      ],
      "metadata": {
        "id": "1V_KytjhlBGU"
      }
    },
    {
      "cell_type": "markdown",
      "source": [
        "Lorem ipsum dolor sit amet, consectetur adipiscing elit. Nullam convallis ut arcu sed viverra. Fusce laoreet auctor libero, a interdum tellus commodo eget. Donec enim arcu, posuere gravida tincidunt ac, convallis ut lacus. Cras et tellus mattis, rhoncus nisl in, vulputate ipsum. Nullam vulputate tellus nisl, quis egestas lacus accumsan semper. Vivamus egestas nisl porta est lacinia, ut vehicula nulla sagittis. Curabitur non augue auctor, vehicula urna ac, dapibus elit. Proin blandit hendrerit nisi. Nam non tincidunt metus, vitae cursus dui.\n",
        "\n",
        "Phasellus sit amet malesuada leo, id semper massa. Praesent nec placerat nulla. Suspendisse placerat sapien ut suscipit sagittis. Interdum et malesuada fames ac ante ipsum primis in faucibus. Donec eleifend vitae lorem non pulvinar. Sed auctor semper imperdiet. Ut a ex felis. In bibendum efficitur ornare. Ut pharetra congue justo, non varius libero pretium quis. Cras fermentum tempus est a mollis. Vestibulum gravida, mauris vel ultricies vestibulum, leo turpis volutpat massa, a varius nibh metus sed sapien. Pellentesque id augue ut velit posuere iaculis. Nullam porta lectus fringilla, sollicitudin diam ut, placerat felis. Ut elementum felis in nisl feugiat accumsan. Aliquam orci odio, efficitur id justo at, tincidunt pellentesque arcu. Sed aliquam dapibus augue, eget vehicula nunc malesuada quis."
      ],
      "metadata": {
        "id": "Sunbkhr8YKvs"
      }
    },
    {
      "cell_type": "markdown",
      "source": [
        "x"
      ],
      "metadata": {
        "id": "SXrJ3SoKw-R8"
      }
    },
    {
      "cell_type": "markdown",
      "source": [
        "$x$"
      ],
      "metadata": {
        "id": "PupAdFqDw8oQ"
      }
    },
    {
      "cell_type": "markdown",
      "source": [
        "7"
      ],
      "metadata": {
        "id": "3IX3dXCoxApd"
      }
    },
    {
      "cell_type": "markdown",
      "source": [
        "$7$"
      ],
      "metadata": {
        "id": "wKvsoHv2xBnO"
      }
    },
    {
      "cell_type": "markdown",
      "source": [
        "$y = m x + b$"
      ],
      "metadata": {
        "id": "o7nfo6vuxHO6"
      }
    },
    {
      "cell_type": "markdown",
      "source": [
        "$\\frac{a}{b}$"
      ],
      "metadata": {
        "id": "NTYKJW6gx8nd"
      }
    },
    {
      "cell_type": "markdown",
      "source": [
        "$a^b$"
      ],
      "metadata": {
        "id": "JsULfOzux9vq"
      }
    },
    {
      "cell_type": "markdown",
      "source": [
        "$a_b$"
      ],
      "metadata": {
        "id": "4pYW8QODyAV7"
      }
    },
    {
      "cell_type": "markdown",
      "source": [
        "$f(x) = \\frac{1}{\\sigma\\sqrt{2\\pi}}e^{-\\frac{1}{2}(\\frac{x-\\mu}{\\sigma})^2}$"
      ],
      "metadata": {
        "id": "LkU2F2mhxRpP"
      }
    },
    {
      "cell_type": "markdown",
      "source": [
        "# Pie Chart"
      ],
      "metadata": {
        "id": "0Lv7wtZ-iTC4"
      }
    },
    {
      "cell_type": "code",
      "source": [
        "labels = 'Frogs', 'Dogs', 'Cats', 'Birds'\n",
        "sizes = [15, 30, 45, 10]\n",
        "explode = (0, 0.1, 0, 0)  # only \"explode\" the 2nd slice (i.e. 'Dogs')\n",
        "\n",
        "fig1, ax1 = plt.subplots()\n",
        "ax1.pie(sizes, explode=explode, labels=labels, autopct='%1.1f%%', shadow=True, startangle=90)\n",
        "ax1.axis('equal')  # Equal aspect ratio ensures that pie is drawn as a circle.\n",
        "plt.show()"
      ],
      "metadata": {
        "colab": {
          "base_uri": "https://localhost:8080/",
          "height": 248
        },
        "id": "dShDSklLED3T",
        "outputId": "d9ba4300-bc31-4e18-873f-fd673d75df05"
      },
      "execution_count": null,
      "outputs": [
        {
          "output_type": "display_data",
          "data": {
            "text/plain": [
              "<Figure size 432x288 with 1 Axes>"
            ],
            "image/png": "[encoded data removed]"
          },
          "metadata": {}
        }
      ]
    },
    {
      "cell_type": "code",
      "source": [
        "import matplotlib.pyplot as plt\n",
        "import numpy as np\n",
        "labels = 'Pepperoni', 'Pineapple', 'Snausagge', 'olives'\n",
        "sizes = [15, 30, 40, 15]\n",
        "explode = (0, 0.8, 0, 0)  # only \"explode\" the 2nd slice (i.e. 'Dogs')\n",
        "\n",
        "fig1, ax1 = plt.subplots()\n",
        "ax1.pie(sizes, explode=explode, labels=labels, autopct='%1.1f%%', shadow=True, startangle=90)\n",
        "ax1.axis('equal')  # Equal aspect ratio ensures that pie is drawn as a circle.\n",
        "plt.show()"
      ],
      "metadata": {
        "colab": {
          "base_uri": "https://localhost:8080/",
          "height": 248
        },
        "id": "NlFHmqL9ex3g",
        "outputId": "439d6777-f495-49be-bbea-4ddeb3a0df45"
      },
      "execution_count": 13,
      "outputs": [
        {
          "output_type": "display_data",
          "data": {
            "text/plain": [
              "<Figure size 432x288 with 1 Axes>"
            ],
            "image/png": "[encoded data removed]"
          },
          "metadata": {}
        }
      ]
    },
    {
      "cell_type": "markdown",
      "source": [
        "###Above I made my own pie chart displaying a fictional group's favorite pizza topimng. I made a bigger \"explosion\" in the orange pineapple slice. "
      ],
      "metadata": {
        "id": "1MG6-DtRigeT"
      }
    },
    {
      "cell_type": "markdown",
      "source": [
        "### Text Strings"
      ],
      "metadata": {
        "id": "A8I5Mj3bsoxu"
      }
    },
    {
      "cell_type": "code",
      "source": [
        "name = 'William'\n",
        "\n",
        "output = f\"Hello, My name is {name}.\"\n",
        "\n",
        "print(output)"
      ],
      "metadata": {
        "colab": {
          "base_uri": "https://localhost:8080/"
        },
        "id": "TO2T8ZCtqZR_",
        "outputId": "c94edcff-9414-4f39-9d29-bf4d31d7c095"
      },
      "execution_count": null,
      "outputs": [
        {
          "output_type": "stream",
          "name": "stdout",
          "text": [
            "Hello, My name is William.\n"
          ]
        }
      ]
    },
    {
      "cell_type": "markdown",
      "source": [
        "###Below I have created my own text string "
      ],
      "metadata": {
        "id": "ySI6uQE-nm4p"
      }
    },
    {
      "cell_type": "code",
      "source": [
        "name = \"Good times never seemed so good\"\n",
        "\n",
        "output = f\"Sweeeet Caroline! {name}.\"\n",
        "\n",
        "print(output)"
      ],
      "metadata": {
        "colab": {
          "base_uri": "https://localhost:8080/"
        },
        "id": "TsulMWQ9nt3N",
        "outputId": "a6aa5e51-c3b7-47d0-e3db-d3b8ecfb5b99"
      },
      "execution_count": 17,
      "outputs": [
        {
          "output_type": "stream",
          "name": "stdout",
          "text": [
            "Sweeeet Caroline! Good times never seemed so good.\n"
          ]
        }
      ]
    },
    {
      "cell_type": "markdown",
      "source": [
        "### Files"
      ],
      "metadata": {
        "id": "Vd1iXQ_bqjUt"
      }
    },
    {
      "cell_type": "code",
      "source": [
        "f = open(\"hello.txt\", 'w')\n",
        "\n",
        "data = \"Hello World\"\n",
        "print(data,  file=f)\n",
        "\n",
        "f.close()"
      ],
      "metadata": {
        "id": "wwEPoacuqnXc"
      },
      "execution_count": null,
      "outputs": []
    },
    {
      "cell_type": "code",
      "source": [
        "f = open('hello.txt', 'r')\n",
        "    \n",
        "lines = f.readlines()\n",
        "print(lines)\n",
        "\n",
        "f.close()"
      ],
      "metadata": {
        "colab": {
          "base_uri": "https://localhost:8080/"
        },
        "id": "dtnd6wZXqZEK",
        "outputId": "f0a23bcf-70a4-4d66-d9bb-5b135ec6ecf6"
      },
      "execution_count": null,
      "outputs": [
        {
          "output_type": "stream",
          "name": "stdout",
          "text": [
            "['Hello World\\n']\n"
          ]
        }
      ]
    },
    {
      "cell_type": "markdown",
      "source": [
        "###I am confused on what thi topic is above \n",
        "\n",
        "\n",
        "\n",
        "\n",
        "\n",
        "\n",
        "\n",
        "\n",
        "\n"
      ],
      "metadata": {
        "id": "pFJxnpLourX7"
      }
    },
    {
      "cell_type": "markdown",
      "source": [
        "### Loops"
      ],
      "metadata": {
        "id": "w8jTQA6itPS_"
      }
    },
    {
      "cell_type": "code",
      "source": [
        "for i in range(10):\n",
        "    print(i)"
      ],
      "metadata": {
        "colab": {
          "base_uri": "https://localhost:8080/"
        },
        "id": "L7a5MPStqZW9",
        "outputId": "f8d743c4-bbe7-4b07-e595-9539e84be31c"
      },
      "execution_count": null,
      "outputs": [
        {
          "output_type": "stream",
          "name": "stdout",
          "text": [
            "0\n",
            "1\n",
            "2\n",
            "3\n",
            "4\n",
            "5\n",
            "6\n",
            "7\n",
            "8\n",
            "9\n"
          ]
        }
      ]
    },
    {
      "cell_type": "markdown",
      "source": [
        "###Use this to create a range"
      ],
      "metadata": {
        "id": "8FWqe3ywwJcy"
      }
    },
    {
      "cell_type": "code",
      "source": [
        "for i in range(5,8):\n",
        "    print(i)"
      ],
      "metadata": {
        "colab": {
          "base_uri": "https://localhost:8080/"
        },
        "id": "GiqhhjfLqZZm",
        "outputId": "3a8e3b3f-774a-40a5-b748-cdfbb2b1d600"
      },
      "execution_count": null,
      "outputs": [
        {
          "output_type": "stream",
          "name": "stdout",
          "text": [
            "5\n",
            "6\n",
            "7\n"
          ]
        }
      ]
    },
    {
      "cell_type": "markdown",
      "source": [
        "Use a comma between numbers to define range "
      ],
      "metadata": {
        "id": "8LazVdH-wTJF"
      }
    },
    {
      "cell_type": "code",
      "source": [
        "for i in range(3):\n",
        "    print(\"Test Number: \",i)"
      ],
      "metadata": {
        "colab": {
          "base_uri": "https://localhost:8080/"
        },
        "id": "ezhAeX6pqZb0",
        "outputId": "2a5534c6-b658-4617-c326-ad572504bcb5"
      },
      "execution_count": null,
      "outputs": [
        {
          "output_type": "stream",
          "name": "stdout",
          "text": [
            "Test Number:  0\n",
            "Test Number:  1\n",
            "Test Number:  2\n"
          ]
        }
      ]
    },
    {
      "cell_type": "markdown",
      "source": [
        "###You can name your number range as you did here with \"Test number\""
      ],
      "metadata": {
        "id": "dugVH5bnxGwt"
      }
    },
    {
      "cell_type": "markdown",
      "source": [
        "### Functions"
      ],
      "metadata": {
        "id": "A6PCCPY2vkHs"
      }
    },
    {
      "cell_type": "code",
      "source": [
        "def square(x):\n",
        "    return x**2"
      ],
      "metadata": {
        "id": "P4rxbIKhthov"
      },
      "execution_count": 30,
      "outputs": []
    },
    {
      "cell_type": "code",
      "source": [
        "square(5)"
      ],
      "metadata": {
        "colab": {
          "base_uri": "https://localhost:8080/"
        },
        "id": "tapdcxMhthq5",
        "outputId": "86aaa162-0d39-4ee4-f8cd-7208dc973fba"
      },
      "execution_count": 27,
      "outputs": [
        {
          "output_type": "execute_result",
          "data": {
            "text/plain": [
              "625"
            ]
          },
          "metadata": {},
          "execution_count": 27
        }
      ]
    },
    {
      "cell_type": "markdown",
      "source": [
        "###This is how you define and square numbers. Refer to my example below where I replaced the word sqaure with \"Fix_up\"\n"
      ],
      "metadata": {
        "id": "I8KL5MYlxXhj"
      }
    },
    {
      "cell_type": "code",
      "source": [
        "def Fix_up (x):\n",
        "    return x**2"
      ],
      "metadata": {
        "id": "GsvnsisYxgNF"
      },
      "execution_count": 36,
      "outputs": []
    },
    {
      "cell_type": "code",
      "source": [
        "Fix_up(26)"
      ],
      "metadata": {
        "colab": {
          "base_uri": "https://localhost:8080/"
        },
        "id": "OcRCEeIvyL1E",
        "outputId": "b46ac7cb-7f83-4187-866b-f2575e95a990"
      },
      "execution_count": 37,
      "outputs": [
        {
          "output_type": "execute_result",
          "data": {
            "text/plain": [
              "676"
            ]
          },
          "metadata": {},
          "execution_count": 37
        }
      ]
    },
    {
      "cell_type": "code",
      "source": [
        "def add_two(x):\n",
        "    return x+2"
      ],
      "metadata": {
        "id": "Ifx93-xithtM"
      },
      "execution_count": null,
      "outputs": []
    },
    {
      "cell_type": "code",
      "source": [
        "add_two(5)"
      ],
      "metadata": {
        "colab": {
          "base_uri": "https://localhost:8080/"
        },
        "id": "YOzLVIluthvX",
        "outputId": "bad1d883-be7c-41e4-c066-0b2f53ab3c3b"
      },
      "execution_count": null,
      "outputs": [
        {
          "output_type": "execute_result",
          "data": {
            "text/plain": [
              "7"
            ]
          },
          "metadata": {},
          "execution_count": 12
        }
      ]
    },
    {
      "cell_type": "markdown",
      "source": [
        "###Here you did the same thing but you added 2"
      ],
      "metadata": {
        "id": "2kkJlLkzyhY1"
      }
    },
    {
      "cell_type": "code",
      "source": [
        "square(add_two(5))"
      ],
      "metadata": {
        "colab": {
          "base_uri": "https://localhost:8080/"
        },
        "id": "Rbj7x0pYteTE",
        "outputId": "bc3d922c-787e-42d6-9df1-cbf6dd54e123"
      },
      "execution_count": null,
      "outputs": [
        {
          "output_type": "execute_result",
          "data": {
            "text/plain": [
              "49"
            ]
          },
          "metadata": {},
          "execution_count": 13
        }
      ]
    },
    {
      "cell_type": "markdown",
      "source": [
        "#### Coins"
      ],
      "metadata": {
        "id": "W-bPqHQs5WEW"
      }
    },
    {
      "cell_type": "code",
      "source": [
        "np.random.random()"
      ],
      "metadata": {
        "colab": {
          "base_uri": "https://localhost:8080/"
        },
        "id": "Qo72tOfu5YTm",
        "outputId": "527d8573-e038-4c75-fe20-f70563a1e7e8"
      },
      "execution_count": 51,
      "outputs": [
        {
          "output_type": "execute_result",
          "data": {
            "text/plain": [
              "0.10349852738017284"
            ]
          },
          "metadata": {},
          "execution_count": 51
        }
      ]
    },
    {
      "cell_type": "markdown",
      "source": [
        "###np.random.random() is a decimal generator "
      ],
      "metadata": {
        "id": "SoXowJ8izKu2"
      }
    },
    {
      "cell_type": "code",
      "source": [
        "np.random.random() > 0.5"
      ],
      "metadata": {
        "colab": {
          "base_uri": "https://localhost:8080/"
        },
        "id": "Ew6vCebg5aXK",
        "outputId": "bc42e358-11f9-4f3f-af97-65c05bc28d13"
      },
      "execution_count": null,
      "outputs": [
        {
          "output_type": "execute_result",
          "data": {
            "text/plain": [
              "True"
            ]
          },
          "metadata": {},
          "execution_count": 45
        }
      ]
    },
    {
      "cell_type": "code",
      "source": [
        "def flip_coin():\n",
        "    if np.random.random() > 0.5:\n",
        "        print(\"Heads\")\n",
        "    else:\n",
        "        print(\"Tails\")"
      ],
      "metadata": {
        "id": "HwbqZHbm5e2u"
      },
      "execution_count": 52,
      "outputs": []
    },
    {
      "cell_type": "markdown",
      "source": [
        "###Here you have told the computer... \n",
        "\n",
        "1.   Flip a coin (Generate a decimal)\n",
        "2.   If it is more than 0.5 \n",
        "3.   print heads \n",
        "4.  If it s not > 0.5 \n",
        "4.  Print this result has tails \n",
        "\n"
      ],
      "metadata": {
        "id": "psJGYOvx0n8G"
      }
    },
    {
      "cell_type": "code",
      "source": [
        "flip_coin()"
      ],
      "metadata": {
        "colab": {
          "base_uri": "https://localhost:8080/"
        },
        "id": "ZcbnR1ln5sNh",
        "outputId": "74aced42-b394-4ee4-c11e-3cd7ef40c138"
      },
      "execution_count": 64,
      "outputs": [
        {
          "output_type": "stream",
          "name": "stdout",
          "text": [
            "Tails\n"
          ]
        }
      ]
    },
    {
      "cell_type": "markdown",
      "source": [
        "### Graphics Output"
      ],
      "metadata": {
        "id": "lrL2Razq9AT7"
      }
    },
    {
      "cell_type": "code",
      "metadata": {
        "id": "WPnpRgBWpoSP"
      },
      "source": [
        "from IPython.core.display import display, HTML"
      ],
      "execution_count": null,
      "outputs": []
    },
    {
      "cell_type": "code",
      "metadata": {
        "id": "scoPAjX5I36X",
        "outputId": "f3f957a7-d93a-44c1-b304-f2e27d0cab70",
        "colab": {
          "base_uri": "https://localhost:8080/",
          "height": 74
        }
      },
      "source": [
        "display(HTML('<h1>Hello, world!</h1>')) "
      ],
      "execution_count": null,
      "outputs": [
        {
          "output_type": "display_data",
          "data": {
            "text/plain": [
              "<IPython.core.display.HTML object>"
            ],
            "text/html": [
              "<h1>Hello, world!</h1>"
            ]
          },
          "metadata": {}
        }
      ]
    },
    {
      "cell_type": "markdown",
      "source": [
        "###Here you imported the nessisary libraries"
      ],
      "metadata": {
        "id": "yfOyIWxb1wiH"
      }
    },
    {
      "cell_type": "code",
      "metadata": {
        "id": "vFHNmtSRpyXg"
      },
      "source": [
        "def coin():\n",
        "  return np.random.randint(2)"
      ],
      "execution_count": 65,
      "outputs": []
    },
    {
      "cell_type": "code",
      "metadata": {
        "id": "AfAPWIjzp2gY",
        "outputId": "20a169d8-e59a-4628-e12e-a9ca022a5271",
        "colab": {
          "base_uri": "https://localhost:8080/"
        }
      },
      "source": [
        "coin() "
      ],
      "execution_count": 70,
      "outputs": [
        {
          "output_type": "execute_result",
          "data": {
            "text/plain": [
              "0"
            ]
          },
          "metadata": {},
          "execution_count": 70
        }
      ]
    },
    {
      "cell_type": "markdown",
      "source": [
        "###Above is a randomizer that you have defined the name \"Coin\"\n",
        "\n",
        "The randomizer will either assighn a 1 or 0 "
      ],
      "metadata": {
        "id": "WaLIvhws2BNa"
      }
    },
    {
      "cell_type": "code",
      "metadata": {
        "id": "m-fkSNLTp4TH",
        "outputId": "bb7296a6-13f7-4401-8be8-dfc0a7d9eec2",
        "colab": {
          "base_uri": "https://localhost:8080/",
          "height": 221
        }
      },
      "source": [
        "display(HTML('<img src=\"https://random-ize.com/coin-flip/us-quarter/us-quarter-front.jpg\">'))"
      ],
      "execution_count": null,
      "outputs": [
        {
          "output_type": "display_data",
          "data": {
            "text/plain": [
              "<IPython.core.display.HTML object>"
            ],
            "text/html": [
              "<img src=\"https://random-ize.com/coin-flip/us-quarter/us-quarter-front.jpg\">"
            ]
          },
          "metadata": {}
        }
      ]
    },
    {
      "cell_type": "code",
      "metadata": {
        "id": "PAyD2RQrq8ji"
      },
      "source": [
        "heads = 'https://random-ize.com/coin-flip/us-quarter/us-quarter-front.jpg'\n",
        "tails = 'https://random-ize.com/coin-flip/us-quarter/us-quarter-back.jpg'"
      ],
      "execution_count": null,
      "outputs": []
    },
    {
      "cell_type": "markdown",
      "source": [
        "###Here you have assigned the terms heads and tails to each image "
      ],
      "metadata": {
        "id": "buLTPLJn2RoW"
      }
    },
    {
      "cell_type": "code",
      "metadata": {
        "id": "BmZMzsCjrhaV"
      },
      "source": [
        "def show_img(img):\n",
        "  display(HTML('<img src=' + img + '>'))"
      ],
      "execution_count": null,
      "outputs": []
    },
    {
      "cell_type": "code",
      "metadata": {
        "id": "UmSs0Jtrr_d2",
        "outputId": "dbb92bc8-ec1f-4255-dc25-30213962fca5",
        "colab": {
          "base_uri": "https://localhost:8080/",
          "height": 221
        }
      },
      "source": [
        "show_img(heads)"
      ],
      "execution_count": null,
      "outputs": [
        {
          "output_type": "display_data",
          "data": {
            "text/plain": [
              "<IPython.core.display.HTML object>"
            ],
            "text/html": [
              "<img src=https://random-ize.com/coin-flip/us-quarter/us-quarter-front.jpg>"
            ]
          },
          "metadata": {}
        }
      ]
    },
    {
      "cell_type": "code",
      "metadata": {
        "id": "LDcFpan0sBgm",
        "colab": {
          "base_uri": "https://localhost:8080/",
          "height": 221
        },
        "outputId": "f0772f90-32bc-44e0-c3cd-20db95f8f601"
      },
      "source": [
        "show_img(tails)"
      ],
      "execution_count": null,
      "outputs": [
        {
          "output_type": "display_data",
          "data": {
            "text/plain": [
              "<IPython.core.display.HTML object>"
            ],
            "text/html": [
              "<img src=https://random-ize.com/coin-flip/us-quarter/us-quarter-back.jpg>"
            ]
          },
          "metadata": {}
        }
      ]
    },
    {
      "cell_type": "markdown",
      "source": [
        "###By saying \"show_img(heads)\" or \"show_img(tails)\" you are commanding Python to display the image you want to see"
      ],
      "metadata": {
        "id": "30pHDQz12dHa"
      }
    },
    {
      "cell_type": "markdown",
      "source": [],
      "metadata": {
        "id": "hw7zoXWC2a0o"
      }
    },
    {
      "cell_type": "code",
      "metadata": {
        "id": "U1Oe2gBlsFFQ"
      },
      "source": [
        "def flip_coin():\n",
        "\n",
        "    if coin():\n",
        "        show_img(heads)\n",
        "    else:\n",
        "        show_img(tails)"
      ],
      "execution_count": 71,
      "outputs": []
    },
    {
      "cell_type": "code",
      "metadata": {
        "id": "qatV0cO1tLAF",
        "colab": {
          "base_uri": "https://localhost:8080/",
          "height": 258
        },
        "outputId": "7a8b3b0f-ba64-4a79-ba6b-f7805e935554"
      },
      "source": [
        "flip_coin()"
      ],
      "execution_count": 74,
      "outputs": [
        {
          "output_type": "error",
          "ename": "NameError",
          "evalue": "ignored",
          "traceback": [
            "\u001b[0;31m---------------------------------------------------------------------------\u001b[0m",
            "\u001b[0;31mNameError\u001b[0m                                 Traceback (most recent call last)",
            "\u001b[0;32m<ipython-input-74-1e7394609c8a>\u001b[0m in \u001b[0;36m<module>\u001b[0;34m\u001b[0m\n\u001b[0;32m----> 1\u001b[0;31m \u001b[0mflip_coin\u001b[0m\u001b[0;34m(\u001b[0m\u001b[0;34m)\u001b[0m\u001b[0;34m\u001b[0m\u001b[0;34m\u001b[0m\u001b[0m\n\u001b[0m",
            "\u001b[0;32m<ipython-input-71-0598c0c09997>\u001b[0m in \u001b[0;36mflip_coin\u001b[0;34m()\u001b[0m\n\u001b[1;32m      4\u001b[0m         \u001b[0mshow_img\u001b[0m\u001b[0;34m(\u001b[0m\u001b[0mheads\u001b[0m\u001b[0;34m)\u001b[0m\u001b[0;34m\u001b[0m\u001b[0;34m\u001b[0m\u001b[0m\n\u001b[1;32m      5\u001b[0m     \u001b[0;32melse\u001b[0m\u001b[0;34m:\u001b[0m\u001b[0;34m\u001b[0m\u001b[0;34m\u001b[0m\u001b[0m\n\u001b[0;32m----> 6\u001b[0;31m         \u001b[0mshow_img\u001b[0m\u001b[0;34m(\u001b[0m\u001b[0mtails\u001b[0m\u001b[0;34m)\u001b[0m\u001b[0;34m\u001b[0m\u001b[0;34m\u001b[0m\u001b[0m\n\u001b[0m",
            "\u001b[0;31mNameError\u001b[0m: name 'show_img' is not defined"
          ]
        }
      ]
    },
    {
      "cell_type": "code",
      "source": [
        "for i in range(5):\n",
        "    flip_coin()"
      ],
      "metadata": {
        "id": "JK_63sBc9ze4"
      },
      "execution_count": null,
      "outputs": []
    }
  ]
}