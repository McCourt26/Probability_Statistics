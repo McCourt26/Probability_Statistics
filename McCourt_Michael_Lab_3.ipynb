{
  "nbformat": 4,
  "nbformat_minor": 0,
  "metadata": {
    "colab": {
      "provenance": [],
      "collapsed_sections": [
        "6o5zYVOU8ahE",
        "bJfwk8tnVV2E"
      ],
      "include_colab_link": true
    },
    "kernelspec": {
      "name": "python3",
      "display_name": "Python 3"
    },
    "language_info": {
      "name": "python"
    }
  },
  "cells": [
    {
      "cell_type": "markdown",
      "metadata": {
        "id": "view-in-github",
        "colab_type": "text"
      },
      "source": [
        "<a href=\"https://colab.research.google.com/github/McCourt26/Probability_Statistics/blob/main/McCourt_Michael_Lab_3.ipynb\" target=\"_parent\"><img src=\"https://colab.research.google.com/assets/colab-badge.svg\" alt=\"Open In Colab\"/></a>"
      ]
    },
    {
      "cell_type": "markdown",
      "source": [
        "# Stats Notebook Lab #3"
      ],
      "metadata": {
        "id": "GEwHyK5ve9lG"
      }
    },
    {
      "cell_type": "markdown",
      "source": [
        "###Loops"
      ],
      "metadata": {
        "id": "Zwoffm26eK8e"
      }
    },
    {
      "cell_type": "code",
      "source": [
        "for i in range(100):\n",
        "    print(i)"
      ],
      "metadata": {
        "id": "L7a5MPStqZW9"
      },
      "execution_count": null,
      "outputs": []
    },
    {
      "cell_type": "code",
      "source": [
        "for i in range(5,8):\n",
        "    print(i)"
      ],
      "metadata": {
        "id": "GiqhhjfLqZZm"
      },
      "execution_count": null,
      "outputs": []
    },
    {
      "cell_type": "markdown",
      "source": [
        "\n",
        ">>> In loop you are assigning python a list and it is resating it to you. You can select the range with use of commas. This is my example below. \n"
      ],
      "metadata": {
        "id": "yIqwDZcKaUkE"
      }
    },
    {
      "cell_type": "code",
      "source": [
        "Soda = [\"Coke\", \"Pepsi\", \"Sprite\"]\n",
        "for x in Soda:\n",
        "  print(x) "
      ],
      "metadata": {
        "id": "qRfKPBbFafKS"
      },
      "execution_count": null,
      "outputs": []
    },
    {
      "cell_type": "code",
      "source": [
        "for i in range(\"Coke\",\"Sprite\"):\n",
        "     print(x)\n"
      ],
      "metadata": {
        "id": "30unJMYGa64j"
      },
      "execution_count": null,
      "outputs": []
    },
    {
      "cell_type": "markdown",
      "source": [
        ">>> I unsuccessfully tried to make a loop. "
      ],
      "metadata": {
        "id": "I2bniNN4b_0K"
      }
    },
    {
      "cell_type": "markdown",
      "source": [
        "### Functions"
      ],
      "metadata": {
        "id": "A6PCCPY2vkHs"
      }
    },
    {
      "cell_type": "code",
      "source": [
        "def square(x):\n",
        "    return x**2"
      ],
      "metadata": {
        "id": "P4rxbIKhthov"
      },
      "execution_count": null,
      "outputs": []
    },
    {
      "cell_type": "code",
      "source": [
        "square(5)"
      ],
      "metadata": {
        "id": "DwH7qpPIwcuh"
      },
      "execution_count": null,
      "outputs": []
    },
    {
      "cell_type": "markdown",
      "source": [
        ">>> Here you are defining the funtion name and and then what you want it to do. In this case you are squaring 5 with \"x**2\""
      ],
      "metadata": {
        "id": "ilEd1x_xxh1Y"
      }
    },
    {
      "cell_type": "code",
      "source": [
        "square(square(2)) "
      ],
      "metadata": {
        "id": "ggut_uVy_rSf"
      },
      "execution_count": null,
      "outputs": []
    },
    {
      "cell_type": "markdown",
      "source": [
        ">>> Here you are double sqauring \"2\" with the term square(square(2)) "
      ],
      "metadata": {
        "id": "FEnMcIVGya96"
      }
    },
    {
      "cell_type": "code",
      "source": [
        "square(square(square(2)))\n"
      ],
      "metadata": {
        "id": "95jAfJVR_94h"
      },
      "execution_count": null,
      "outputs": []
    },
    {
      "cell_type": "markdown",
      "source": [
        ">>> You can also triple square "
      ],
      "metadata": {
        "id": "NtcFbPodzcBY"
      }
    },
    {
      "cell_type": "code",
      "source": [
        "square(123456)"
      ],
      "metadata": {
        "id": "8Ni3UM4r_sav"
      },
      "execution_count": null,
      "outputs": []
    },
    {
      "cell_type": "code",
      "source": [
        "square(square(5))"
      ],
      "metadata": {
        "id": "zCJeQUED_vO4"
      },
      "execution_count": null,
      "outputs": []
    },
    {
      "cell_type": "code",
      "source": [
        "def add_two(x):\n",
        "    return x+2"
      ],
      "metadata": {
        "id": "Ifx93-xithtM"
      },
      "execution_count": null,
      "outputs": []
    },
    {
      "cell_type": "code",
      "source": [
        "add_two(5)"
      ],
      "metadata": {
        "id": "YOzLVIluthvX"
      },
      "execution_count": null,
      "outputs": []
    },
    {
      "cell_type": "markdown",
      "source": [
        "def add_two(x):\n",
        "    return x+2\n",
        "\n",
        "    This is how you add two "
      ],
      "metadata": {
        "id": "glcDN3ZFzyRA"
      }
    },
    {
      "cell_type": "code",
      "source": [
        "def add_100(x):\n",
        "    return x+100"
      ],
      "metadata": {
        "id": "Yv0Pchv3z6eb"
      },
      "execution_count": null,
      "outputs": []
    },
    {
      "cell_type": "code",
      "source": [
        "add_100(100)"
      ],
      "metadata": {
        "id": "GWbjsPUGz-Ok"
      },
      "execution_count": null,
      "outputs": []
    },
    {
      "cell_type": "code",
      "source": [
        "square(add_two(5))"
      ],
      "metadata": {
        "id": "Rbj7x0pYteTE"
      },
      "execution_count": null,
      "outputs": []
    },
    {
      "cell_type": "markdown",
      "source": [
        ">>> This is my own example adding 100"
      ],
      "metadata": {
        "id": "omSW-RM_0QvN"
      }
    },
    {
      "cell_type": "markdown",
      "source": [
        "### Logical Branching"
      ],
      "metadata": {
        "id": "xApDPXnTv2xj"
      }
    },
    {
      "cell_type": "code",
      "source": [
        "choice = \"apple\""
      ],
      "metadata": {
        "id": "e0M7Azbth_u3"
      },
      "execution_count": null,
      "outputs": []
    },
    {
      "cell_type": "code",
      "source": [
        "if choice == \"apple\":\n",
        "\n",
        "    print(\"You choose apples.\")\n",
        "\n",
        "else:\n",
        "    \n",
        "    print(\"You did not choose apples.\")"
      ],
      "metadata": {
        "id": "9VoLDXjgwSSx"
      },
      "execution_count": null,
      "outputs": []
    },
    {
      "cell_type": "markdown",
      "source": [
        ">>> You are telling python if choice = apple that is synonymous with the print \"You chose apples\". Vise versa if you didnt choose apples for \"else\" = \"You did not choose apples"
      ],
      "metadata": {
        "id": "1l8CL3EzBpQE"
      }
    },
    {
      "cell_type": "code",
      "source": [
        "choice = \"orange\""
      ],
      "metadata": {
        "id": "YueQEzQfwUwM"
      },
      "execution_count": null,
      "outputs": []
    },
    {
      "cell_type": "code",
      "source": [
        "if choice == \"apple\":\n",
        "\n",
        "    print(\"You choose apples.\")\n",
        "\n",
        "else:\n",
        "    \n",
        "    print(\"You did not choose apples.\")"
      ],
      "metadata": {
        "id": "P88tbCMiwUwN"
      },
      "execution_count": null,
      "outputs": []
    },
    {
      "cell_type": "markdown",
      "source": [
        ">>> Here you did not choose apples"
      ],
      "metadata": {
        "id": "hkvAcj2SCeKS"
      }
    },
    {
      "cell_type": "code",
      "source": [
        "choice = \"apple\""
      ],
      "metadata": {
        "id": "pMJWHWfLCBAz"
      },
      "execution_count": null,
      "outputs": []
    },
    {
      "cell_type": "code",
      "source": [
        "if choice == \"apple\":\n",
        "\n",
        "    print(\"You choose apples.\")\n",
        "    print(\"Thank you, shop again!\")\n",
        "    print(2**123)\n",
        "\n",
        "elif choice == \"orange\":\n",
        "\n",
        "    print(\"You choose oranges.\")\n",
        "    print(\"Thank you, shop again!\")\n",
        "\n",
        "else:\n",
        "    \n",
        "    print(\"You did not choose apples or oranges.\")\n",
        "    print(\"Thank you, shop again!\")"
      ],
      "metadata": {
        "id": "aLYE3A7Qv5Oq"
      },
      "execution_count": null,
      "outputs": []
    },
    {
      "cell_type": "markdown",
      "source": [
        ">>> The term after \"else\" = the costomers selection. Then you typr \"Print(\"Thank you, shop again!\") which is what Pythin will disply after you made a selection "
      ],
      "metadata": {
        "id": "MxTQzmaOCrIW"
      }
    },
    {
      "cell_type": "code",
      "source": [
        "if choice == \"Shirt\":\n",
        "\n",
        "    print(\"You choose Shirt.\")\n",
        "    print(\"Have a nice day\")\n",
        "    print(2**123)\n",
        "\n",
        "elif choice == \"Hat\":\n",
        "\n",
        "    print(\"You choose oranges.\")\n",
        "    print(\"Have a nice day\")\n",
        "\n",
        "else:\n",
        "    \n",
        "    print(\"You did not choose a hat or a shirt.\")\n",
        "    print(\"Please make a selection\")"
      ],
      "metadata": {
        "id": "qcz0CeIUDCkl"
      },
      "execution_count": null,
      "outputs": []
    },
    {
      "cell_type": "markdown",
      "source": [
        ">>> Above is my own example"
      ],
      "metadata": {
        "id": "0vbzxdFNDxGW"
      }
    },
    {
      "cell_type": "markdown",
      "source": [
        "### User Input"
      ],
      "metadata": {
        "id": "DS5-YMih0kcD"
      }
    },
    {
      "cell_type": "code",
      "source": [
        "choice = input(\"Please enter your choice (i.e. apple): \")"
      ],
      "metadata": {
        "id": "VtkIsuCmv5T4"
      },
      "execution_count": null,
      "outputs": []
    },
    {
      "cell_type": "code",
      "source": [
        "choice = input (\"choice\")"
      ],
      "metadata": {
        "id": "qRPsF5Njv5WL"
      },
      "execution_count": null,
      "outputs": []
    },
    {
      "cell_type": "markdown",
      "source": [
        ">>> Here you are asking the user for input over what their choice is"
      ],
      "metadata": {
        "id": "QHGbND5PFP6Q"
      }
    },
    {
      "cell_type": "code",
      "source": [
        "if choice == \"apple\":\n",
        "\n",
        "    print(\"You choose apples.\")\n",
        "\n",
        "elif choice == \"oranges\":\n",
        "\n",
        "    print(\"You choose oranges.\")\n",
        "\n",
        "else:\n",
        "    \n",
        "    print(\"You did not choose apples or oranges.\")"
      ],
      "metadata": {
        "id": "VAMAM01i0ytR"
      },
      "execution_count": null,
      "outputs": []
    },
    {
      "cell_type": "markdown",
      "source": [
        "#### Coins"
      ],
      "metadata": {
        "id": "W-bPqHQs5WEW"
      }
    },
    {
      "cell_type": "code",
      "source": [
        "np.random.random()"
      ],
      "metadata": {
        "id": "Qo72tOfu5YTm"
      },
      "execution_count": null,
      "outputs": []
    },
    {
      "cell_type": "code",
      "source": [
        "np.random.random() > 0.5"
      ],
      "metadata": {
        "id": "Ew6vCebg5aXK"
      },
      "execution_count": null,
      "outputs": []
    },
    {
      "cell_type": "code",
      "source": [
        "def flip_coin():\n",
        "    if np.random.random() > 0.5:\n",
        "        print(\"Heads\")\n",
        "    else:\n",
        "        print(\"Tails\")"
      ],
      "metadata": {
        "id": "HwbqZHbm5e2u"
      },
      "execution_count": null,
      "outputs": []
    },
    {
      "cell_type": "code",
      "source": [
        "flip_coin()"
      ],
      "metadata": {
        "id": "ZcbnR1ln5sNh"
      },
      "execution_count": null,
      "outputs": []
    },
    {
      "cell_type": "markdown",
      "source": [
        "### Graphics Output"
      ],
      "metadata": {
        "id": "lrL2Razq9AT7"
      }
    },
    {
      "cell_type": "code",
      "metadata": {
        "id": "WPnpRgBWpoSP"
      },
      "source": [
        "from IPython.core.display import display, HTML"
      ],
      "execution_count": null,
      "outputs": []
    },
    {
      "cell_type": "code",
      "metadata": {
        "id": "scoPAjX5I36X"
      },
      "source": [
        "display(HTML('<h1>Hello, world!</h1>'))"
      ],
      "execution_count": null,
      "outputs": []
    },
    {
      "cell_type": "code",
      "metadata": {
        "id": "vFHNmtSRpyXg"
      },
      "source": [
        "def coin():\n",
        "  return np.random.randint(2)"
      ],
      "execution_count": null,
      "outputs": []
    },
    {
      "cell_type": "code",
      "metadata": {
        "id": "AfAPWIjzp2gY"
      },
      "source": [
        "coin()"
      ],
      "execution_count": null,
      "outputs": []
    },
    {
      "cell_type": "code",
      "metadata": {
        "id": "m-fkSNLTp4TH"
      },
      "source": [
        "display(HTML('<img src=\"https://random-ize.com/coin-flip/us-quarter/us-quarter-front.jpg\">'))"
      ],
      "execution_count": null,
      "outputs": []
    },
    {
      "cell_type": "code",
      "metadata": {
        "id": "PAyD2RQrq8ji"
      },
      "source": [
        "heads = 'https://random-ize.com/coin-flip/us-quarter/us-quarter-front.jpg'\n",
        "tails = 'https://random-ize.com/coin-flip/us-quarter/us-quarter-back.jpg'"
      ],
      "execution_count": null,
      "outputs": []
    },
    {
      "cell_type": "markdown",
      "source": [
        ">>> Here you are assigning what picture is apropreate for heads and tails"
      ],
      "metadata": {
        "id": "ReLmhW-5KGMl"
      }
    },
    {
      "cell_type": "code",
      "metadata": {
        "id": "BmZMzsCjrhaV"
      },
      "source": [
        "def show_img(img):\n",
        "  display(HTML('<img src=' + img + '>'))"
      ],
      "execution_count": null,
      "outputs": []
    },
    {
      "cell_type": "code",
      "metadata": {
        "id": "UmSs0Jtrr_d2"
      },
      "source": [
        "show_img(heads)"
      ],
      "execution_count": null,
      "outputs": []
    },
    {
      "cell_type": "markdown",
      "source": [
        ">>> To display heads"
      ],
      "metadata": {
        "id": "DYST0K-vKOEC"
      }
    },
    {
      "cell_type": "code",
      "metadata": {
        "id": "LDcFpan0sBgm"
      },
      "source": [
        "show_img(tails)"
      ],
      "execution_count": null,
      "outputs": []
    },
    {
      "cell_type": "markdown",
      "source": [
        ">>> To display tails"
      ],
      "metadata": {
        "id": "I0ONin55KRzS"
      }
    },
    {
      "cell_type": "markdown",
      "source": [],
      "metadata": {
        "id": "xm67NW-XKVNo"
      }
    },
    {
      "cell_type": "code",
      "metadata": {
        "id": "U1Oe2gBlsFFQ"
      },
      "source": [
        "def flip_coin():\n",
        "\n",
        "    if coin():\n",
        "        show_img(heads)\n",
        "    else:\n",
        "        show_img(tails)"
      ],
      "execution_count": null,
      "outputs": []
    },
    {
      "cell_type": "markdown",
      "source": [
        ">>> This tells Python which picture to show based on what side the coin lands "
      ],
      "metadata": {
        "id": "nzTye6v7KVPm"
      }
    },
    {
      "cell_type": "code",
      "metadata": {
        "id": "qatV0cO1tLAF"
      },
      "source": [
        "flip_coin()"
      ],
      "execution_count": null,
      "outputs": []
    },
    {
      "cell_type": "code",
      "source": [
        "for i in range(5):\n",
        "    flip_coin()"
      ],
      "metadata": {
        "id": "JK_63sBc9ze4"
      },
      "execution_count": null,
      "outputs": []
    },
    {
      "cell_type": "code",
      "metadata": {
        "id": "T6VX51Qwt4xb",
        "cellView": "form"
      },
      "source": [
        "#@title Coin Flip\n",
        "\n",
        "if coin():\n",
        "\n",
        "  show_img(heads)\n",
        "\n",
        "else:\n",
        "\n",
        "  show_img(tails)"
      ],
      "execution_count": null,
      "outputs": []
    },
    {
      "cell_type": "code",
      "source": [],
      "metadata": {
        "id": "dbEMqBu1AVja"
      },
      "execution_count": null,
      "outputs": []
    },
    {
      "cell_type": "markdown",
      "source": [
        "### Cards"
      ],
      "metadata": {
        "id": "HYFhDwx-5Tmb"
      }
    },
    {
      "cell_type": "code",
      "source": [
        "def shuffle(x):\n",
        "    for i in range(len(x)-1,0,-1):\n",
        "        j = np.random.randint(0,i+1)\n",
        "        x[i],x[j] = x[j],x[i]\n",
        "        # print(j,x)\n",
        "    return x"
      ],
      "metadata": {
        "id": "Q7_rInrY0wvF"
      },
      "execution_count": null,
      "outputs": []
    },
    {
      "cell_type": "markdown",
      "source": [
        "I am unsure what this command is \n",
        "\n",
        "1    Assighning the term \"shuffle \n",
        "2.   You are defining the range \n",
        "3.   ? \n",
        "4.   ? \n",
        "5.   ? \n",
        "6.   ? \n",
        "\n"
      ],
      "metadata": {
        "id": "B4ZxUmONLKO5"
      }
    },
    {
      "cell_type": "code",
      "source": [
        "a = np.arange(52)"
      ],
      "metadata": {
        "id": "b_ywmb911RR0"
      },
      "execution_count": null,
      "outputs": []
    },
    {
      "cell_type": "code",
      "source": [
        "shuffle(a)"
      ],
      "metadata": {
        "id": "hp96Lx2n9tCg"
      },
      "execution_count": null,
      "outputs": []
    },
    {
      "cell_type": "code",
      "source": [
        "np.random.permutation(52) "
      ],
      "metadata": {
        "id": "DRlb5RrU2Xpz"
      },
      "execution_count": null,
      "outputs": []
    },
    {
      "cell_type": "markdown",
      "source": [
        ">>> This is randomizing the order out of 52 cards"
      ],
      "metadata": {
        "id": "kH0GirBfLojM"
      }
    },
    {
      "cell_type": "markdown",
      "source": [
        "### Speed Test"
      ],
      "metadata": {
        "id": "qE1o4X7A-NnY"
      }
    },
    {
      "cell_type": "code",
      "source": [
        "%%timeit\n",
        "shuffle(a)"
      ],
      "metadata": {
        "id": "quhAyA2x-Dhg"
      },
      "execution_count": null,
      "outputs": []
    },
    {
      "cell_type": "code",
      "source": [
        "%%timeit\n",
        "np.random.permutation(52)"
      ],
      "metadata": {
        "id": "tSfGgWQD95RN"
      },
      "execution_count": null,
      "outputs": []
    },
    {
      "cell_type": "markdown",
      "source": [
        ">>> Here we are randomizing the array with the command %%timeit\n",
        "shuffle(a)"
      ],
      "metadata": {
        "id": "cCERU3WKL9kM"
      }
    },
    {
      "cell_type": "code",
      "source": [],
      "metadata": {
        "id": "d5QNdIZmC5ZD"
      },
      "execution_count": null,
      "outputs": []
    },
    {
      "cell_type": "code",
      "source": [],
      "metadata": {
        "id": "5Fj5V0NaC5cE"
      },
      "execution_count": null,
      "outputs": []
    },
    {
      "cell_type": "code",
      "source": [
        "import numpy as np "
      ],
      "metadata": {
        "id": "BeE0MU3UDB5P"
      },
      "execution_count": null,
      "outputs": []
    },
    {
      "cell_type": "markdown",
      "source": [
        ">>> We are importing Numpy. Numpy is a library that allows us to work with arrays "
      ],
      "metadata": {
        "id": "tEzBTnNnLzCE"
      }
    },
    {
      "cell_type": "code",
      "source": [
        "np.random.permutation(52)"
      ],
      "metadata": {
        "id": "2d81sDv-C5fC"
      },
      "execution_count": null,
      "outputs": []
    },
    {
      "cell_type": "code",
      "source": [
        "cards = np.random.permutation(52)"
      ],
      "metadata": {
        "id": "utgxB3Hs-XzM"
      },
      "execution_count": null,
      "outputs": []
    },
    {
      "cell_type": "code",
      "source": [
        "cards"
      ],
      "metadata": {
        "id": "ymjkesO4DeL8"
      },
      "execution_count": null,
      "outputs": []
    },
    {
      "cell_type": "code",
      "source": [
        "cards[0]"
      ],
      "metadata": {
        "id": "aD_pF-bb2XMr"
      },
      "execution_count": null,
      "outputs": []
    },
    {
      "cell_type": "code",
      "source": [
        "cards[1]"
      ],
      "metadata": {
        "id": "oMX21ZDyC8GE"
      },
      "execution_count": null,
      "outputs": []
    },
    {
      "cell_type": "code",
      "source": [
        "cards[2]"
      ],
      "metadata": {
        "id": "iHJdkqRiC8Li"
      },
      "execution_count": null,
      "outputs": []
    },
    {
      "cell_type": "code",
      "source": [],
      "metadata": {
        "id": "1D7q7OLnC8OD"
      },
      "execution_count": null,
      "outputs": []
    },
    {
      "cell_type": "code",
      "source": [],
      "metadata": {
        "id": "2Azw7LtnC8P-"
      },
      "execution_count": null,
      "outputs": []
    },
    {
      "cell_type": "code",
      "source": [],
      "metadata": {
        "id": "TnIDocAOC8SM"
      },
      "execution_count": null,
      "outputs": []
    },
    {
      "cell_type": "code",
      "source": [],
      "metadata": {
        "id": "kdbE-ZFVC8Uj"
      },
      "execution_count": null,
      "outputs": []
    },
    {
      "cell_type": "markdown",
      "source": [
        "<img src='http://www.milefoot.com/math/discrete/counting/images/cards.png'>"
      ],
      "metadata": {
        "id": "4nzZ-igCdyI2"
      }
    },
    {
      "cell_type": "markdown",
      "source": [
        ">>> These pictures allow us to visually represent our deck of cards "
      ],
      "metadata": {
        "id": "CcytH7OcMigo"
      }
    },
    {
      "cell_type": "code",
      "source": [
        "np.arange(52).reshape(4,13)"
      ],
      "metadata": {
        "id": "X2kL-cZdeMLN"
      },
      "execution_count": null,
      "outputs": []
    },
    {
      "cell_type": "code",
      "source": [
        "np.arange(52).reshape(4,13)%13"
      ],
      "metadata": {
        "id": "YfRxhh8BeV_a"
      },
      "execution_count": null,
      "outputs": []
    },
    {
      "cell_type": "code",
      "source": [
        "np.arange(52).reshape(4,13)//13"
      ],
      "metadata": {
        "id": "fdzIqJr9e60L"
      },
      "execution_count": null,
      "outputs": []
    },
    {
      "cell_type": "code",
      "source": [
        "suits = ['Clubs','Spades','Hearts','Diamonds']\n",
        "names = ['Ace','Two','Three','Four','Five','Six','Seven','Eight','Nine','Ten','Jack','Queen','King']"
      ],
      "metadata": {
        "id": "-xUjbfkQfUgL"
      },
      "execution_count": null,
      "outputs": []
    },
    {
      "cell_type": "markdown",
      "source": [
        ">>> Here we assigh our names and suits "
      ],
      "metadata": {
        "id": "ZkMvEouPMtt-"
      }
    },
    {
      "cell_type": "code",
      "source": [
        "def card_name(card_number):\n",
        "    \n",
        "    suit = card_number//13\n",
        "    name = card_number%13\n",
        "\n",
        "    return names[name] + \" of \" + suits[suit]"
      ],
      "metadata": {
        "id": "-e-I-Cp7eFnx"
      },
      "execution_count": null,
      "outputs": []
    },
    {
      "cell_type": "code",
      "source": [
        "card_name(0)"
      ],
      "metadata": {
        "id": "3Jz3yyAtGPfX"
      },
      "execution_count": null,
      "outputs": []
    },
    {
      "cell_type": "code",
      "source": [
        "card_name(51)"
      ],
      "metadata": {
        "id": "WO3GC8uiGPp-"
      },
      "execution_count": null,
      "outputs": []
    },
    {
      "cell_type": "code",
      "source": [],
      "metadata": {
        "id": "dFl4rJa9GP23"
      },
      "execution_count": null,
      "outputs": []
    },
    {
      "cell_type": "code",
      "source": [],
      "metadata": {
        "id": "BC5b-bO3GQDv"
      },
      "execution_count": null,
      "outputs": []
    },
    {
      "cell_type": "code",
      "source": [],
      "metadata": {
        "id": "RGfjtdTdGQQv"
      },
      "execution_count": null,
      "outputs": []
    },
    {
      "cell_type": "code",
      "source": [
        "cards = np.random.permutation(52)"
      ],
      "metadata": {
        "id": "fAMR6SY43iB_"
      },
      "execution_count": null,
      "outputs": []
    },
    {
      "cell_type": "code",
      "source": [
        "top_of_deck         = card_name(cards[0])\n",
        "second_card_in_deck = card_name(cards[1])\n",
        "last_card_in_deck   = card_name(cards[-1])"
      ],
      "metadata": {
        "id": "XGAe8yPY3iCA"
      },
      "execution_count": null,
      "outputs": []
    },
    {
      "cell_type": "code",
      "source": [
        "top_of_deck, second_card_in_deck, last_card_in_deck"
      ],
      "metadata": {
        "id": "erDo7giQ3fg6"
      },
      "execution_count": null,
      "outputs": []
    },
    {
      "cell_type": "code",
      "source": [
        "for i in range(5):\n",
        "    print(card_name(cards[i]))"
      ],
      "metadata": {
        "id": "D_TDdCHv30GR"
      },
      "execution_count": null,
      "outputs": []
    },
    {
      "cell_type": "code",
      "source": [
        "for i in range(15):\n",
        "    print(card_name(cards[i]))"
      ],
      "metadata": {
        "id": "_g9tC5TNHvXh"
      },
      "execution_count": null,
      "outputs": []
    },
    {
      "cell_type": "code",
      "source": [],
      "metadata": {
        "id": "8Hyzuz9-HvZK"
      },
      "execution_count": null,
      "outputs": []
    },
    {
      "cell_type": "markdown",
      "source": [
        "https://www.improvemagic.com/all-playing-cards-names-with-pictures/"
      ],
      "metadata": {
        "id": "vdqtmIBN_a7r"
      }
    },
    {
      "cell_type": "code",
      "source": [],
      "metadata": {
        "id": "RxUyIi1dHvbh"
      },
      "execution_count": null,
      "outputs": []
    },
    {
      "cell_type": "code",
      "source": [],
      "metadata": {
        "id": "80hX7BWqHvdn"
      },
      "execution_count": null,
      "outputs": []
    },
    {
      "cell_type": "code",
      "source": [
        "card_url_head = \"https://www.improvemagic.com/wp-content/uploads/2020/11/\"\n",
        "card_url_tail = \".png\""
      ],
      "metadata": {
        "id": "ZuGAbJIC_BGM"
      },
      "execution_count": null,
      "outputs": []
    },
    {
      "cell_type": "code",
      "source": [
        "suit = ['k','p','s','l']\n",
        "card = ['a','2','3','4','5','6','7','8','9','10','j','q','k']"
      ],
      "metadata": {
        "id": "FSYUTq2F_BIx"
      },
      "execution_count": null,
      "outputs": []
    },
    {
      "cell_type": "code",
      "source": [
        "i = np.random.randint(4)\n",
        "j = np.random.randint(13)"
      ],
      "metadata": {
        "id": "4UBNVwxU_BL5"
      },
      "execution_count": null,
      "outputs": []
    },
    {
      "cell_type": "code",
      "source": [
        "i,j"
      ],
      "metadata": {
        "id": "pAx5veOKJYqk"
      },
      "execution_count": null,
      "outputs": []
    },
    {
      "cell_type": "code",
      "source": [
        "suit[i]"
      ],
      "metadata": {
        "id": "PJI87rOLADjE"
      },
      "execution_count": null,
      "outputs": []
    },
    {
      "cell_type": "code",
      "source": [
        "card[j]"
      ],
      "metadata": {
        "id": "4CDlPu3QAGrB"
      },
      "execution_count": null,
      "outputs": []
    },
    {
      "cell_type": "code",
      "source": [
        "from IPython.core.display import display, HTML"
      ],
      "metadata": {
        "id": "nMrvAOnhK7EK"
      },
      "execution_count": null,
      "outputs": []
    },
    {
      "cell_type": "code",
      "source": [
        "def show_img(img):\n",
        "  display(HTML('<img src=' + img + '>'))"
      ],
      "metadata": {
        "id": "sdXvvvlkAI6h"
      },
      "execution_count": null,
      "outputs": []
    },
    {
      "cell_type": "code",
      "source": [
        "img = card_url_head + suit[i] + card[j] + card_url_tail"
      ],
      "metadata": {
        "id": "ZE-ENtczAVsM"
      },
      "execution_count": null,
      "outputs": []
    },
    {
      "cell_type": "code",
      "source": [
        "show_img(img)"
      ],
      "metadata": {
        "id": "XJpPMK-NAVu4"
      },
      "execution_count": null,
      "outputs": []
    },
    {
      "cell_type": "code",
      "source": [],
      "metadata": {
        "id": "704bIqNnKhoQ"
      },
      "execution_count": null,
      "outputs": []
    },
    {
      "cell_type": "code",
      "source": [],
      "metadata": {
        "id": "H7W4VXmqKhrv"
      },
      "execution_count": null,
      "outputs": []
    },
    {
      "cell_type": "code",
      "source": [],
      "metadata": {
        "id": "g2MOeQegKhyJ"
      },
      "execution_count": null,
      "outputs": []
    },
    {
      "cell_type": "code",
      "source": [
        "def card_image(card_number):\n",
        "    \n",
        "    i = card_number//13\n",
        "    j = card_number%13\n",
        "\n",
        "    return suit[i]+card[j]"
      ],
      "metadata": {
        "id": "JtqOFl_WAVxd"
      },
      "execution_count": null,
      "outputs": []
    },
    {
      "cell_type": "code",
      "source": [
        "card_image(3)"
      ],
      "metadata": {
        "id": "K1MVgXJ-AVz0"
      },
      "execution_count": null,
      "outputs": []
    },
    {
      "cell_type": "code",
      "source": [
        "img = card_url_head + card_image(3) + card_url_tail"
      ],
      "metadata": {
        "id": "2TGYbXUiB1iw"
      },
      "execution_count": null,
      "outputs": []
    },
    {
      "cell_type": "code",
      "source": [
        "show_img(img)"
      ],
      "metadata": {
        "id": "Ve1UcoH3B5sS"
      },
      "execution_count": null,
      "outputs": []
    },
    {
      "cell_type": "code",
      "source": [
        "for i in range(52):\n",
        "    img = card_url_head + card_image(i) + card_url_tail\n",
        "    show_img(img)"
      ],
      "metadata": {
        "id": "UCervcFTB5ut"
      },
      "execution_count": null,
      "outputs": []
    },
    {
      "cell_type": "code",
      "source": [],
      "metadata": {
        "id": "jZ9e5Z9HB7sG"
      },
      "execution_count": null,
      "outputs": []
    }
  ]
}